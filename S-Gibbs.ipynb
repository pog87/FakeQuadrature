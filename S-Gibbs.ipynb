{
 "cells": [
  {
   "cell_type": "code",
   "execution_count": 1,
   "metadata": {},
   "outputs": [],
   "source": [
    "#Import the needed libraries\n",
    "import numpy as np\n",
    "from scipy.integrate import quad\n",
    "import matplotlib.pylab as plt\n",
    "\n",
    "from fakequadrature import quadrature_weights"
   ]
  },
  {
   "cell_type": "code",
   "execution_count": 2,
   "metadata": {},
   "outputs": [],
   "source": [
    "# Define the test functions both with sympy and nympy used for the tests\n",
    "def f_1(x):\n",
    "    return np.sin(x)\n",
    "\n",
    "def f_2(x):\n",
    "    return np.log(x**4+4) + 7\n",
    "\n",
    "def f(x):\n",
    "    return f_1(x)*(x<=0) + f_2(x)*(x>0)"
   ]
  },
  {
   "cell_type": "code",
   "execution_count": 3,
   "metadata": {},
   "outputs": [],
   "source": [
    "# Define the parameters\n",
    "a, b = -2, 2 # Integration interval\n",
    "\n",
    "k = 20 # The shift parameter\n",
    "\n",
    "disc = 0 # The discontinuity location\n",
    "\n",
    "ep = 1.e-13 # Parameter for identify the left and right discontinuity limits\n",
    "\n",
    "alpha = np.abs(f(0)-f(0+ep)) # The jump magnitude\n",
    "\n",
    "shift = k*alpha # The shift\n",
    "\n",
    "LenFor = 40 # Maximum degree for the polynomial interpolation"
   ]
  },
  {
   "cell_type": "code",
   "execution_count": 4,
   "metadata": {},
   "outputs": [],
   "source": [
    "# Define the mapping functions\n",
    "def S(x):\n",
    "    return x*(x<=0)+(x+shift)*(x>0)\n",
    "\n",
    "def Sc(x):\n",
    "    return -((b-a)/2)*np.cos(np.pi*(x-a)/(b-a)) + (b+a)/2"
   ]
  },
  {
   "cell_type": "code",
   "execution_count": 5,
   "metadata": {
    "scrolled": true
   },
   "outputs": [],
   "source": [
    "# Compute the true integral\n",
    "lt, _ = quad(f_1, a, disc)\n",
    "rt, _ = quad(f_2, disc, b)\n",
    "Itrue = lt + rt"
   ]
  },
  {
   "cell_type": "code",
   "execution_count": 6,
   "metadata": {
    "scrolled": true
   },
   "outputs": [],
   "source": [
    "Err, ErrCL, Errf = [], [], [] # Initialize\n",
    "# Compute the weights and approximate the integral\n",
    "\n",
    "for Deg in np.arange(1,LenFor,2):\n",
    "    # Define the degree and the equispaced nodes\n",
    "    N_nodes = Deg+1\n",
    "    x = np.linspace(a,b,N_nodes)\n",
    "    # Define the CL nodes (for comparison)\n",
    "    xCL = Sc(x)\n",
    "    # Define the funtion values for equispaced and CL nodes\n",
    "    y = f(x)\n",
    "    yCL = f(xCL)\n",
    "    # Compute the weights for standard and CL weights \n",
    "    # and for the fake nodes approach\n",
    "    w = quadrature_weights(x, (a,disc)) + quadrature_weights(x, (disc,b))\n",
    "    wf = quadrature_weights(x, (a,disc), mapping = S) + quadrature_weights(x, (disc,b), mapping = S)\n",
    "    wCL = quadrature_weights(xCL, (a,disc)) + quadrature_weights(xCL, (disc,b))\n",
    "    \n",
    "    # Approximate the integrals\n",
    "    I  = y.dot(w)\n",
    "    If  = y.dot(wf)\n",
    "    ICL  = yCL.dot(wCL)\n",
    "    # Compute the errors\n",
    "    err = np.abs(I-Itrue)\n",
    "    errf = np.abs(If-Itrue)\n",
    "    errCL = np.abs(ICL-Itrue)\n",
    "    \n",
    "    Err.append(err); ErrCL.append(errCL); Errf.append(errf)"
   ]
  },
  {
   "cell_type": "code",
   "execution_count": null,
   "metadata": {},
   "outputs": [],
   "source": []
  },
  {
   "cell_type": "code",
   "execution_count": 7,
   "metadata": {
    "scrolled": true
   },
   "outputs": [
    {
     "data": {
      "image/png": "[encoded data removed]",
      "text/plain": [
       "<Figure size 360x360 with 1 Axes>"
      ]
     },
     "metadata": {
      "needs_background": "light"
     },
     "output_type": "display_data"
    }
   ],
   "source": [
    "# Plotting tools\n",
    "fig, ax = plt.subplots(1, 1,figsize=(5,5))\n",
    "ax.cla()\n",
    "asc = list(1+np.arange(1,LenFor,2))\n",
    "ax.semilogy(asc,Err,'.-k',asc,ErrCL,'*-g',asc,Errf,'o-m')\n",
    "ax.set_xlabel(\"Degree\", fontsize = 14)\n",
    "ax.set_ylabel(\"Absolute error\", fontsize = 14)\n",
    "ax.legend([\"Eq. nodes\",\"CL nodes\",\"Fake nodes\"],loc = 'best', fontsize = 14)\n",
    "ax.grid(True)\n",
    "plt.savefig(\"gibbsfig.png\")\n",
    "plt.show()"
   ]
  },
  {
   "cell_type": "code",
   "execution_count": 8,
   "metadata": {},
   "outputs": [
    {
     "data": {
      "text/plain": [
       "array([ 2.17076776e-02,  3.07873823e-01, -1.54370002e+00,  1.25309759e+01,\n",
       "       -7.88016694e+01,  4.18896980e+02, -1.87727796e+03,  7.19116191e+03,\n",
       "       -2.37745223e+04,  6.83995317e+04, -1.72309757e+05,  3.81755285e+05,\n",
       "       -7.45688982e+05,  1.28463711e+06, -1.94709136e+06,  2.57887620e+06,\n",
       "       -2.94111930e+06,  2.79517760e+06, -2.02740799e+06,  7.42882886e+05,\n",
       "        7.42882886e+05, -2.02740799e+06,  2.79517760e+06, -2.94111930e+06,\n",
       "        2.57887620e+06, -1.94709136e+06,  1.28463711e+06, -7.45688982e+05,\n",
       "        3.81755285e+05, -1.72309757e+05,  6.83995317e+04, -2.37745223e+04,\n",
       "        7.19116191e+03, -1.87727796e+03,  4.18896980e+02, -7.88016694e+01,\n",
       "        1.25309759e+01, -1.54370002e+00,  3.07873823e-01,  2.17076776e-02])"
      ]
     },
     "execution_count": 8,
     "metadata": {},
     "output_type": "execute_result"
    }
   ],
   "source": [
    "w"
   ]
  },
  {
   "cell_type": "code",
   "execution_count": 9,
   "metadata": {},
   "outputs": [
    {
     "data": {
      "text/plain": [
       "array([ 2.32113454e-02,  2.55111681e-01, -6.84899296e-01,  3.67458271e+00,\n",
       "       -1.28359277e+01,  3.74935853e+01, -8.71400603e+01,  1.66363143e+02,\n",
       "       -2.60995407e+02,  3.39996501e+02, -3.67811792e+02,  3.31348584e+02,\n",
       "       -2.47332148e+02,  1.52587628e+02, -7.67045351e+01,  3.12855853e+01,\n",
       "       -9.89864993e+00,  2.56603337e+00, -3.45866078e-01,  1.55319360e-01,\n",
       "        1.55319360e-01, -3.45866078e-01,  2.56603337e+00, -9.89864993e+00,\n",
       "        3.12855853e+01, -7.67045351e+01,  1.52587628e+02, -2.47332148e+02,\n",
       "        3.31348584e+02, -3.67811792e+02,  3.39996501e+02, -2.60995407e+02,\n",
       "        1.66363143e+02, -8.71400603e+01,  3.74935853e+01, -1.28359277e+01,\n",
       "        3.67458271e+00, -6.84899296e-01,  2.55111681e-01,  2.32113454e-02])"
      ]
     },
     "execution_count": 9,
     "metadata": {},
     "output_type": "execute_result"
    }
   ],
   "source": [
    "wf"
   ]
  },
  {
   "cell_type": "code",
   "execution_count": null,
   "metadata": {},
   "outputs": [],
   "source": []
  }
 ],
 "metadata": {
  "kernelspec": {
   "display_name": "Python 3",
   "language": "python",
   "name": "python3"
  },
  "language_info": {
   "codemirror_mode": {
    "name": "ipython",
    "version": 3
   },
   "file_extension": ".py",
   "mimetype": "text/x-python",
   "name": "python",
   "nbconvert_exporter": "python",
   "pygments_lexer": "ipython3",
   "version": "3.7.5"
  }
 },
 "nbformat": 4,
 "nbformat_minor": 1
}
