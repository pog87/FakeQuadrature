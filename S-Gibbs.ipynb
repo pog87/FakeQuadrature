{
 "cells": [
  {
   "cell_type": "code",
   "execution_count": 1,
   "metadata": {},
   "outputs": [],
   "source": [
    "#Import the needed libraries\n",
    "import numpy as np\n",
    "from scipy.integrate import quad\n",
    "import matplotlib.pylab as plt\n",
    "\n",
    "from fakequadrature import quadrature_weights"
   ]
  },
  {
   "cell_type": "markdown",
   "metadata": {},
   "source": [
    "We aim to integrate the discontinuous function\n",
    "\n",
    "$$ f(x)= \\left \\lbrace\n",
    "\\begin{array}{c c}\n",
    "    \\sin (x) & \\text{ for } x \\leq 0,\\\\\n",
    "    \\log(x^4+4)+7 & \\text{ for } x>0\\\\\n",
    "\\end{array} \\right.$$\n",
    "over the interval $[-2,2]$ in three different ways:\n",
    "\n",
    " 1. Using equispaced samples and computing the quadrature weights;\n",
    " 2. Using Chebyshev-Lobatto samples and computing the quadrature weights;\n",
    " 3. Using the same samples as in (1.) but with fake nodes quadrature weights with mapping $S$."
   ]
  },
  {
   "cell_type": "code",
   "execution_count": 2,
   "metadata": {},
   "outputs": [],
   "source": [
    "# Define the test functions both with sympy and nympy used for the tests\n",
    "def f_1(x):\n",
    "    return np.sin(x)\n",
    "\n",
    "def f_2(x):\n",
    "    return np.log(x**4+4) + 7\n",
    "\n",
    "def f(x):\n",
    "    return f_1(x)*(x<=0) + f_2(x)*(x>0)"
   ]
  },
  {
   "cell_type": "code",
   "execution_count": 3,
   "metadata": {},
   "outputs": [],
   "source": [
    "# Define the parameters\n",
    "a, b = -2, 2 # Integration interval\n",
    "\n",
    "k = 1.5 # The shift parameter\n",
    "\n",
    "disc = 0 # The discontinuity location\n",
    "\n",
    "ep = 1.e-13 # Parameter for identify the left and right discontinuity limits\n",
    "\n",
    "alpha = np.abs(f(0)-f(0+ep)) # The jump magnitude\n",
    "\n",
    "shift = k*alpha # The shift\n",
    "\n",
    "LenFor = 40 # Maximum degree for the polynomial interpolation"
   ]
  },
  {
   "cell_type": "markdown",
   "metadata": {},
   "source": [
    "We choose the mapping \n",
    " $$ S(x)= \\left \\lbrace\n",
    "\\begin{array}{c c}\n",
    "    x & \\text{ for } x \\leq 0,\\\\\n",
    "    x+\\text{shift} & \\text{ for } x>0\\\\\n",
    "\\end{array} \\right.$$\n",
    "where the $\\text{shift}$ parameter is described in the above cell"
   ]
  },
  {
   "cell_type": "code",
   "execution_count": 4,
   "metadata": {},
   "outputs": [],
   "source": [
    "# Define the mapping functions\n",
    "def S(x):\n",
    "    return x*(x<=0)+(x+shift)*(x>0)\n",
    "\n",
    "def Sc(x):\n",
    "    return -((b-a)/2)*np.cos(np.pi*(x-a)/(b-a)) + (b+a)/2"
   ]
  },
  {
   "cell_type": "code",
   "execution_count": 5,
   "metadata": {
    "scrolled": true
   },
   "outputs": [],
   "source": [
    "# Compute the \"true\" integral using the quad function\n",
    "lt, _ = quad(f_1, a, disc)\n",
    "rt, _ = quad(f_2, disc, b)\n",
    "Itrue = lt + rt"
   ]
  },
  {
   "cell_type": "markdown",
   "metadata": {},
   "source": [
    "We now compute the approximate integral values with the three methods for a number of nodes spanning from 2 to 40. We also compute each absolute error to compare the methods."
   ]
  },
  {
   "cell_type": "code",
   "execution_count": 6,
   "metadata": {
    "scrolled": true
   },
   "outputs": [],
   "source": [
    "Err, ErrCL, Errf = [], [], [] # Initialize\n",
    "# Compute the weights and approximate the integral\n",
    "\n",
    "for Deg in np.arange(1,LenFor,2):\n",
    "    # Define the degree and the equispaced nodes\n",
    "    N_nodes = Deg+1\n",
    "    x = np.linspace(a,b,N_nodes)\n",
    "    # Define the CL nodes (for comparison)\n",
    "    xCL = Sc(x)\n",
    "    # Define the funtion values for equispaced and CL nodes\n",
    "    y = f(x)\n",
    "    yCL = f(xCL)\n",
    "    # Compute the weights for standard and CL weights \n",
    "    # and for the fake nodes approach\n",
    "    w = quadrature_weights(x, (a,disc)) + \\\n",
    "        quadrature_weights(x, (disc,b))\n",
    "    wf = quadrature_weights(x, (a,disc), mapping = S) + \\\n",
    "         quadrature_weights(x, (disc,b), mapping = S)\n",
    "    wCL = quadrature_weights(xCL, (a,disc)) + \\\n",
    "          quadrature_weights(xCL, (disc,b))\n",
    "    \n",
    "    # Approximate the integrals\n",
    "    I  = y.dot(w)\n",
    "    If  = y.dot(wf)\n",
    "    ICL  = yCL.dot(wCL)\n",
    "    # Compute the errors\n",
    "    err = np.abs(I-Itrue)\n",
    "    errf = np.abs(If-Itrue)\n",
    "    errCL = np.abs(ICL-Itrue)\n",
    "    \n",
    "    Err.append(err); ErrCL.append(errCL); Errf.append(errf)"
   ]
  },
  {
   "cell_type": "code",
   "execution_count": 7,
   "metadata": {
    "scrolled": true
   },
   "outputs": [
    {
     "data": {
      "image/png": "[encoded data removed]",
      "text/plain": [
       "<Figure size 432x360 with 1 Axes>"
      ]
     },
     "metadata": {
      "needs_background": "light"
     },
     "output_type": "display_data"
    }
   ],
   "source": [
    "# Plotting tools\n",
    "fig, ax = plt.subplots(1, 1,figsize=(6,5))\n",
    "ax.cla()\n",
    "asc = list(1+np.arange(1,LenFor,2))\n",
    "ax.semilogy(asc,Err,'.-k',asc,ErrCL,'*-g',asc,Errf,'o-m')\n",
    "ax.set_xlabel(\"Degree\", fontsize = 14)\n",
    "ax.set_ylabel(\"Absolute error\", fontsize = 14)\n",
    "ax.legend([\"Eq. nodes\",\"CL nodes\",\"Fake nodes\"],loc = 'best', fontsize = 14)\n",
    "ax.grid(True)\n",
    "plt.savefig(\"gibbsfig.png\")\n",
    "plt.show()"
   ]
  },
  {
   "cell_type": "markdown",
   "metadata": {},
   "source": [
    "From this plot we get that the Fake Nodes approach for computing integrals is the best over the three. This is consistent with results on [polynomial interpolation](https://github.com/pog87/FakeNodes/blob/master/Gibbs.ipynb). "
   ]
  }
 ],
 "metadata": {
  "kernelspec": {
   "display_name": "Python 3",
   "language": "python",
   "name": "python3"
  },
  "language_info": {
   "codemirror_mode": {
    "name": "ipython",
    "version": 3
   },
   "file_extension": ".py",
   "mimetype": "text/x-python",
   "name": "python",
   "nbconvert_exporter": "python",
   "pygments_lexer": "ipython3",
   "version": "3.7.0"
  }
 },
 "nbformat": 4,
 "nbformat_minor": 1
}
